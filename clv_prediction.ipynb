{
 "cells": [
  {
   "cell_type": "code",
   "execution_count": 1,
   "id": "f61698ac-5e6d-4a61-aeb5-326f3075a89e",
   "metadata": {},
   "outputs": [
    {
     "ename": "ModuleNotFoundError",
     "evalue": "No module named 'pandas'",
     "output_type": "error",
     "traceback": [
      "\u001B[0;31m---------------------------------------------------------------------------\u001B[0m",
      "\u001B[0;31mModuleNotFoundError\u001B[0m                       Traceback (most recent call last)",
      "\u001B[0;32m<ipython-input-1-b55078c81ec4>\u001B[0m in \u001B[0;36m<module>\u001B[0;34m\u001B[0m\n\u001B[0;32m----> 1\u001B[0;31m \u001B[0;32mimport\u001B[0m \u001B[0mpandas\u001B[0m \u001B[0;32mas\u001B[0m \u001B[0mpd\u001B[0m\u001B[0;34m\u001B[0m\u001B[0;34m\u001B[0m\u001B[0m\n\u001B[0m\u001B[1;32m      2\u001B[0m \u001B[0;32mimport\u001B[0m \u001B[0mnumpy\u001B[0m \u001B[0;32mas\u001B[0m \u001B[0mnp\u001B[0m\u001B[0;34m\u001B[0m\u001B[0;34m\u001B[0m\u001B[0m\n\u001B[1;32m      3\u001B[0m \u001B[0;32mimport\u001B[0m \u001B[0mmatplotlib\u001B[0m\u001B[0;34m.\u001B[0m\u001B[0mpyplot\u001B[0m \u001B[0;32mas\u001B[0m \u001B[0mplt\u001B[0m\u001B[0;34m\u001B[0m\u001B[0;34m\u001B[0m\u001B[0m\n\u001B[1;32m      4\u001B[0m \u001B[0;32mimport\u001B[0m \u001B[0mseaborn\u001B[0m \u001B[0;32mas\u001B[0m \u001B[0msns\u001B[0m\u001B[0;34m\u001B[0m\u001B[0;34m\u001B[0m\u001B[0m\n\u001B[1;32m      5\u001B[0m \u001B[0mget_ipython\u001B[0m\u001B[0;34m(\u001B[0m\u001B[0;34m)\u001B[0m\u001B[0;34m.\u001B[0m\u001B[0mrun_line_magic\u001B[0m\u001B[0;34m(\u001B[0m\u001B[0;34m'matplotlib'\u001B[0m\u001B[0;34m,\u001B[0m \u001B[0;34m'inline'\u001B[0m\u001B[0;34m)\u001B[0m\u001B[0;34m\u001B[0m\u001B[0;34m\u001B[0m\u001B[0m\n",
      "\u001B[0;31mModuleNotFoundError\u001B[0m: No module named 'pandas'"
     ]
    }
   ],
   "source": [
    "import pandas as pd\n",
    "import numpy as np\n",
    "import matplotlib.pyplot as plt\n",
    "import seaborn as sns\n",
    "%matplotlib inline\n",
    "\n",
    "from datetime import datetime, timedelta\n",
    "from __future__ import division\n",
    "\n",
    "import chart_studio.plotly as py\n",
    "import plotly.offline as pyoff\n",
    "import plotly.graph_objs as go\n",
    "pyoff.init_notebook_mode()"
   ]
  },
  {
   "cell_type": "markdown",
   "id": "a7882715-9e55-4489-b5d8-a8fd66f99260",
   "metadata": {},
   "source": [
    "## Data Wrangling"
   ]
  },
  {
   "cell_type": "code",
   "execution_count": null,
   "id": "bd8b325c-76a9-475f-9c42-b7fd6b278bd2",
   "metadata": {},
   "outputs": [],
   "source": [
    "#read the data\n",
    "\n",
    "df = pd.read_excel(\"data/Online_Retail.xlsx\", sheet_name='Online Retail')\n",
    "df.head(10)"
   ]
  },
  {
   "cell_type": "code",
   "execution_count": null,
   "id": "f22a6b9f-f46a-478f-a4c4-08f7b3905471",
   "metadata": {},
   "outputs": [],
   "source": [
    "df.info()"
   ]
  },
  {
   "cell_type": "code",
   "execution_count": null,
   "id": "167773cf-10ba-4753-b0cb-4a40a80dec54",
   "metadata": {},
   "outputs": [],
   "source": [
    "df.describe()"
   ]
  },
  {
   "cell_type": "markdown",
   "id": "e96a4354-7a6c-47c4-bfef-6417223370c6",
   "metadata": {},
   "source": [
    "#### Monthly Revenue"
   ]
  },
  {
   "cell_type": "code",
   "execution_count": null,
   "id": "ffcbac73-1a1b-4a38-8797-ad4b70eefcc2",
   "metadata": {},
   "outputs": [],
   "source": [
    "# Converting from string to datetime\n",
    "df['InvoiceDate'] = pd.to_datetime(df['InvoiceDate'])\n",
    "\n",
    "#creating YearMonth field for the ease of reporting and visualization\n",
    "df['InvoiceYearMonth'] = df['InvoiceDate'].map(lambda date: 100*date.year + date.month)\n",
    "\n",
    "#calculate Revenue for each row and create a new dataframe with YearMonth - Revenue columns\n",
    "df['Revenue'] = df['UnitPrice'] * df['Quantity']\n",
    "df_revenue = df.groupby(['InvoiceYearMonth'])['Revenue'].sum().reset_index()\n",
    "df_revenue.head(15)"
   ]
  },
  {
   "cell_type": "code",
   "execution_count": null,
   "id": "9b4b02fd-7dca-415d-9339-50e65d6343b9",
   "metadata": {},
   "outputs": [],
   "source": [
    "#Visualization\n",
    "#X and Y axis inputs for Plotly graph. We use Scatter for line graphs\n",
    "\n",
    "plot_df = [go.Scatter(x = df_revenue['InvoiceYearMonth'],\n",
    "                      y = df_revenue['Revenue'],\n",
    "                     )]\n",
    "\n",
    "plot_layout = go.Layout(xaxis= {\"type\": \"category\"},\n",
    "                        title = \"Monthly Revenue\"\n",
    "                       )\n",
    "\n",
    "fig = go.Figure(data = plot_df, layout= plot_layout)\n",
    "pyoff.iplot(fig)"
   ]
  },
  {
   "cell_type": "markdown",
   "id": "36ade47c-cea2-43a4-af3d-b621b45dfeee",
   "metadata": {},
   "source": [
    "### Monthly Revenue Growth Rate"
   ]
  },
  {
   "cell_type": "code",
   "execution_count": null,
   "id": "fed3d847-be1b-4927-bd6d-96c662b1d54f",
   "metadata": {},
   "outputs": [],
   "source": [
    "#using pct_change() function to see monthly percentage change\n",
    "\n",
    "df_revenue['MonthlyGrowth'] = df_revenue['Revenue'].pct_change()\n",
    "\n",
    "#showing first 5 rows\n",
    "df_revenue.head(5)"
   ]
  },
  {
   "cell_type": "code",
   "execution_count": null,
   "id": "f1373754-0b82-4da7-a1ee-ab6a86a35c61",
   "metadata": {},
   "outputs": [],
   "source": [
    "#visualization - line graph\n",
    "\n",
    "plot_df_monthlyGrowth = [go.Scatter( x = df_revenue.query(\"InvoiceYearMonth < 201112\")[\"InvoiceYearMonth\"],\n",
    "                                      y = df_revenue.query(\"InvoiceYearMonth < 201112\")[\"MonthlyGrowth\"],\n",
    "                                     )]\n",
    "\n",
    "plot_layout_monthlyGrowth = go.Layout(xaxis = {\"type\": \"category\"},\n",
    "                                     title = \"Monthly Growth Rate\")\n",
    "\n",
    "fig2 = go.Figure(data = plot_df_monthlyGrowth, layout= plot_layout_monthlyGrowth)\n",
    "pyoff.iplot(fig2)\n"
   ]
  },
  {
   "cell_type": "code",
   "execution_count": null,
   "id": "33cb9c9c-74e7-4349-adf1-fe83e364e5a5",
   "metadata": {},
   "outputs": [],
   "source": [
    "df_country = df['Country'].unique()\n",
    "df_country"
   ]
  },
  {
   "cell_type": "code",
   "execution_count": null,
   "id": "5cb93c3b-e15c-4e04-95a6-cadf7dc02829",
   "metadata": {},
   "outputs": [],
   "source": [
    "# What Happened in April \n",
    "# Check Monthly Active customers\n",
    "\n",
    "#creating a new dataframe with UK customers only\n",
    "df_uk = df.query(\"Country == 'United Kingdom'\").reset_index(drop = True)\n",
    "\n",
    "#creating monthly active customers dataframe by counting unique Customer IDs\n",
    "df_montly_active = df_uk.groupby('InvoiceYearMonth')['CustomerID'].nunique().reset_index()\n",
    "\n",
    "df_montly_active\n"
   ]
  },
  {
   "cell_type": "code",
   "execution_count": null,
   "id": "36434345-9185-4291-9ff1-817fe4388762",
   "metadata": {},
   "outputs": [],
   "source": [
    "# Plotting the Monthly Active customers\n",
    "\n",
    "plot_df_AMC = [go.Bar(x = df_montly_active['InvoiceYearMonth'],\n",
    "                     y = df_montly_active['CustomerID'],\n",
    "                     )]\n",
    "plot_df_layout = go.Layout(xaxis = {\"type\": \"category\"},\n",
    "                          title = \"Monthly Active Customers\")\n",
    "\n",
    "fig3 = go.Figure(data=plot_df_AMC, layout = plot_df_layout )\n",
    "\n",
    "pyoff.iplot(fig3)"
   ]
  },
  {
   "cell_type": "code",
   "execution_count": null,
   "id": "5127651e-6dc2-4d93-a019-19a715471208",
   "metadata": {},
   "outputs": [],
   "source": [
    "# What Happened in April \n",
    "# Check Monthly Order Count\n",
    "\n",
    "#creating Monthly Order Count dataframe for no. of oder by using quantity field\n",
    "\n",
    "df_monthly_sales = df_uk.groupby('InvoiceYearMonth')['Quantity'].sum().reset_index()\n",
    "\n",
    "df_monthly_sales"
   ]
  },
  {
   "cell_type": "code",
   "execution_count": null,
   "id": "227c4c86-17f5-41d6-9164-ed425ff73be4",
   "metadata": {},
   "outputs": [],
   "source": [
    "# Plotting the Monthly Order Count\n",
    "\n",
    "plot_df_monthly_sales = [go.Bar(x = df_monthly_sales['InvoiceYearMonth'],\n",
    "                               y = df_monthly_sales['Quantity'],\n",
    "                               )]\n",
    "\n",
    "plot_monthly_sales_layout = go.Layout(xaxis = {\"type\": \"category\"},\n",
    "                                     title = 'Monthly Total No. of Order')\n",
    "\n",
    "fig4 = go.Figure(data = plot_df_monthly_sales, layout= plot_monthly_sales_layout )\n",
    "\n",
    "pyoff.iplot(fig4)"
   ]
  },
  {
   "cell_type": "code",
   "execution_count": null,
   "id": "1525b4f5-45f4-4216-bbc1-00a6d6a1457c",
   "metadata": {},
   "outputs": [],
   "source": [
    "# What Happened in April \n",
    "#Average Revenue per Order\n",
    "\n",
    "# create a new dataframe for average revenue by taking the mean of it\n",
    "\n",
    "df_monthly_order_avg = df_uk.groupby('InvoiceYearMonth')['Revenue'].mean().reset_index()\n",
    "\n",
    "df_monthly_order_avg.head(4)"
   ]
  },
  {
   "cell_type": "code",
   "execution_count": null,
   "id": "0c944a23-ba05-4a4e-81d1-1d4b61c2c824",
   "metadata": {},
   "outputs": [],
   "source": [
    "plot_monthly_order_avg = [go.Bar( x = df_monthly_order_avg['InvoiceYearMonth'],\n",
    "                                y = df_monthly_order_avg['Revenue'],\n",
    "                                )]\n",
    "\n",
    "plot_layout_monthly_order_avg = go.Layout(xaxis = {\"type\": \"category\"},\n",
    "                                         title = \"Monthly Order Avarage\")\n",
    "\n",
    "fig5 = go.Figure(data =plot_monthly_order_avg , layout =plot_layout_monthly_order_avg)\n",
    "\n",
    "pyoff.iplot(fig5)"
   ]
  },
  {
   "cell_type": "code",
   "execution_count": null,
   "id": "0b90cda7-c8d9-40dc-b52b-dd2ca87a52da",
   "metadata": {},
   "outputs": [],
   "source": [
    "#create a df contaning CustomerID and first purchase date\n",
    "\n",
    "df_min_purchase = df_uk.groupby('CustomerID').InvoiceDate.min().reset_index()\n",
    "df_min_purchase.columns = ['CustomerID', 'MinPurchaseDate']\n",
    "df_min_purchase['MinPurchaseYearMonth'] = df_min_purchase['MinPurchaseDate'].map(lambda date: 100*date.year + date.month)\n",
    "\n",
    "#merge first purchase date column to our main dataframe (df_uk)\n",
    "\n",
    "df_uk = pd.merge(df_uk, df_min_purchase, on='CustomerID')\n",
    "\n",
    "df_uk.head()\n",
    "\n"
   ]
  },
  {
   "cell_type": "code",
   "execution_count": null,
   "id": "33abbd29-23a1-46ec-8a0b-aee7ba79d5cc",
   "metadata": {},
   "outputs": [],
   "source": [
    "#create a column called User Type and assign Existing \n",
    "#if User's First Purchase Year Month before the selected Invoice Year Month\n",
    "\n",
    "df_uk['UserType'] = \"New\"\n",
    "df_uk.loc[df_uk['InvoiceYearMonth'] > df_uk['MinPurchaseYearMonth'], 'UserType'] = 'Existing'\n",
    "#df_uk.head(5)\n",
    "\n",
    "#calculate the Revenue per month for each user type\n",
    "df_user_monthly_revenue = df_uk.groupby(['InvoiceYearMonth', 'UserType'])['Revenue'].sum().reset_index()\n",
    "\n",
    "#filtering the dates and plot the result\n",
    "df_user_monthly_revenue = df_user_monthly_revenue.query(\"InvoiceYearMonth  != 201012 and InvoiceYearMonth != 201112\")\n",
    "\n",
    "#Plotting User Monthly Revenue\n",
    "\n",
    "plot_dfUserMonthlyRevenue = [go.Scatter(x  = df_user_monthly_revenue.query(\"UserType == 'Existing'\")['InvoiceYearMonth'],\n",
    "                                        y = df_user_monthly_revenue.query(\"UserType == 'Existing'\")['Revenue'],\n",
    "                                        name = 'Existing'\n",
    "                                       ),\n",
    "                             \n",
    "                             go.Scatter(x  = df_user_monthly_revenue.query(\"UserType == 'New'\")['InvoiceYearMonth'],\n",
    "                                        y = df_user_monthly_revenue.query(\"UserType == 'New'\")['Revenue'],\n",
    "                                        name = 'New'\n",
    "                                       ),\n",
    "                            ]\n",
    "\n",
    "layout_dfUserMonthlyRevenue = go.Layout(xaxis = {\"type\": \"category\"},\n",
    "                                       title = 'New vs Existing')\n",
    "\n",
    "fig6 = go.Figure(data = plot_dfUserMonthlyRevenue, layout =layout_dfUserMonthlyRevenue )\n",
    "\n",
    "pyoff.iplot(fig6)\n",
    "\n",
    "\n",
    "\n"
   ]
  },
  {
   "cell_type": "code",
   "execution_count": null,
   "id": "c5670bc2-4a32-4342-8edc-e751cb47eeef",
   "metadata": {},
   "outputs": [],
   "source": [
    "df_user_monthly_revenue.head()"
   ]
  },
  {
   "cell_type": "code",
   "execution_count": null,
   "id": "b8633ca8-b88a-4244-a053-778a2fef9c61",
   "metadata": {},
   "outputs": [],
   "source": [
    "from jedi import settings\n",
    "settings.case_insensitive_completion = True"
   ]
  },
  {
   "cell_type": "code",
   "execution_count": null,
   "id": "33a6791a-6537-4dd3-869a-bf4521496da6",
   "metadata": {},
   "outputs": [],
   "source": [
    "#create a dataframe that shows new user ratio - we also need to drop NA values (first month new user ratio is 0)\n",
    "\n",
    "df_user_ratio_Num= df_uk.query(\"UserType == 'New'\").groupby(['InvoiceYearMonth'])['CustomerID'].nunique()\n",
    "df_user_ratio_Din= df_uk.query(\"UserType == 'Existing'\").groupby(['InvoiceYearMonth'])['CustomerID'].nunique()\n",
    "    \n",
    "df_user_ratio = (df_user_ratio_Num / df_user_ratio_Din)\n",
    "df_user_ratio = df_user_ratio.reset_index()\n",
    "df_user_ratio =df_user_ratio.dropna()\n",
    "df_user_ratio.head()"
   ]
  },
  {
   "cell_type": "code",
   "execution_count": 6,
   "id": "612c9b76-6689-4cab-b589-c20f9f1912ec",
   "metadata": {},
   "outputs": [
    {
     "ename": "NameError",
     "evalue": "name 'go' is not defined",
     "output_type": "error",
     "traceback": [
      "\u001B[0;31m---------------------------------------------------------------------------\u001B[0m",
      "\u001B[0;31mNameError\u001B[0m                                 Traceback (most recent call last)",
      "\u001B[0;32m<ipython-input-6-95018cf2de57>\u001B[0m in \u001B[0;36m<module>\u001B[0;34m\u001B[0m\n\u001B[1;32m      1\u001B[0m \u001B[0;31m# Plotting\u001B[0m\u001B[0;34m\u001B[0m\u001B[0;34m\u001B[0m\u001B[0;34m\u001B[0m\u001B[0m\n\u001B[1;32m      2\u001B[0m \u001B[0;34m\u001B[0m\u001B[0m\n\u001B[0;32m----> 3\u001B[0;31m plot_UserRatio = [go.Bar( x = df_user_ratio.query(\"InvoiceYearMonth > 201101 and InvoiceYearMonth < 201112\")['InvoiceYearMonth'],\n\u001B[0m\u001B[1;32m      4\u001B[0m                         \u001B[0my\u001B[0m \u001B[0;34m=\u001B[0m \u001B[0mdf_user_ratio\u001B[0m\u001B[0;34m.\u001B[0m\u001B[0mquery\u001B[0m\u001B[0;34m(\u001B[0m\u001B[0;34m\"InvoiceYearMonth > 201101 and InvoiceYearMonth < 201112\"\u001B[0m\u001B[0;34m)\u001B[0m\u001B[0;34m[\u001B[0m\u001B[0;34m'CustomerID'\u001B[0m\u001B[0;34m]\u001B[0m\u001B[0;34m,\u001B[0m\u001B[0;34m\u001B[0m\u001B[0;34m\u001B[0m\u001B[0m\n\u001B[1;32m      5\u001B[0m                         )]\n",
      "\u001B[0;31mNameError\u001B[0m: name 'go' is not defined"
     ]
    }
   ],
   "source": [
    "# Plotting\n",
    "\n",
    "plot_UserRatio = [go.Bar( x = df_user_ratio.query(\"InvoiceYearMonth > 201101 and InvoiceYearMonth < 201112\")['InvoiceYearMonth'],\n",
    "                        y = df_user_ratio.query(\"InvoiceYearMonth > 201101 and InvoiceYearMonth < 201112\")['CustomerID'],\n",
    "                        )]\n",
    "\n",
    "layout_UserRatio = go.Layout(xaxis = {\"type\": \"category\"},\n",
    "                            title= \"New Customer Ratio\")\n",
    "\n",
    "fig7 = go.Figure(data = plot_UserRatio, layout =layout_UserRatio )\n",
    "pyoff.iplot(fig7)"
   ]
  },
  {
   "cell_type": "code",
   "execution_count": null,
   "id": "3c726117-dcbd-4990-ac58-53f26bf7bd2d",
   "metadata": {},
   "outputs": [],
   "source": []
  }
 ],
 "metadata": {
  "kernelspec": {
   "name": "data_science",
   "language": "python",
   "display_name": "data_science"
  },
  "language_info": {
   "codemirror_mode": {
    "name": "ipython",
    "version": 3
   },
   "file_extension": ".py",
   "mimetype": "text/x-python",
   "name": "python",
   "nbconvert_exporter": "python",
   "pygments_lexer": "ipython3",
   "version": "3.9.16"
  }
 },
 "nbformat": 4,
 "nbformat_minor": 5
}
